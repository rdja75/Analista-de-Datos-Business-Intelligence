{
  "nbformat": 4,
  "nbformat_minor": 0,
  "metadata": {
    "colab": {
      "provenance": []
    },
    "kernelspec": {
      "name": "python3",
      "display_name": "Python 3"
    },
    "language_info": {
      "name": "python"
    }
  },
  "cells": [
    {
      "cell_type": "code",
      "execution_count": 4,
      "metadata": {
        "colab": {
          "base_uri": "https://localhost:8080/",
          "height": 197
        },
        "id": "FXrBPaiumIPM",
        "outputId": "99651c9c-73e4-49b9-c071-529b4086f1c2"
      },
      "outputs": [
        {
          "output_type": "stream",
          "name": "stdout",
          "text": [
            "Requirement already satisfied: pandas in /usr/local/lib/python3.12/dist-packages (2.2.2)\n",
            "Requirement already satisfied: numpy in /usr/local/lib/python3.12/dist-packages (2.0.2)\n",
            "Requirement already satisfied: python-dateutil>=2.8.2 in /usr/local/lib/python3.12/dist-packages (from pandas) (2.9.0.post0)\n",
            "Requirement already satisfied: pytz>=2020.1 in /usr/local/lib/python3.12/dist-packages (from pandas) (2025.2)\n",
            "Requirement already satisfied: tzdata>=2022.7 in /usr/local/lib/python3.12/dist-packages (from pandas) (2025.2)\n",
            "Requirement already satisfied: six>=1.5 in /usr/local/lib/python3.12/dist-packages (from python-dateutil>=2.8.2->pandas) (1.17.0)\n"
          ]
        },
        {
          "output_type": "display_data",
          "data": {
            "text/plain": [
              "<IPython.core.display.HTML object>"
            ],
            "text/html": [
              "\n",
              "     <input type=\"file\" id=\"files-df376f2d-cb05-4f63-bf6d-492ffeda8a18\" name=\"files[]\" multiple disabled\n",
              "        style=\"border:none\" />\n",
              "     <output id=\"result-df376f2d-cb05-4f63-bf6d-492ffeda8a18\">\n",
              "      Upload widget is only available when the cell has been executed in the\n",
              "      current browser session. Please rerun this cell to enable.\n",
              "      </output>\n",
              "      <script>// Copyright 2017 Google LLC\n",
              "//\n",
              "// Licensed under the Apache License, Version 2.0 (the \"License\");\n",
              "// you may not use this file except in compliance with the License.\n",
              "// You may obtain a copy of the License at\n",
              "//\n",
              "//      http://www.apache.org/licenses/LICENSE-2.0\n",
              "//\n",
              "// Unless required by applicable law or agreed to in writing, software\n",
              "// distributed under the License is distributed on an \"AS IS\" BASIS,\n",
              "// WITHOUT WARRANTIES OR CONDITIONS OF ANY KIND, either express or implied.\n",
              "// See the License for the specific language governing permissions and\n",
              "// limitations under the License.\n",
              "\n",
              "/**\n",
              " * @fileoverview Helpers for google.colab Python module.\n",
              " */\n",
              "(function(scope) {\n",
              "function span(text, styleAttributes = {}) {\n",
              "  const element = document.createElement('span');\n",
              "  element.textContent = text;\n",
              "  for (const key of Object.keys(styleAttributes)) {\n",
              "    element.style[key] = styleAttributes[key];\n",
              "  }\n",
              "  return element;\n",
              "}\n",
              "\n",
              "// Max number of bytes which will be uploaded at a time.\n",
              "const MAX_PAYLOAD_SIZE = 100 * 1024;\n",
              "\n",
              "function _uploadFiles(inputId, outputId) {\n",
              "  const steps = uploadFilesStep(inputId, outputId);\n",
              "  const outputElement = document.getElementById(outputId);\n",
              "  // Cache steps on the outputElement to make it available for the next call\n",
              "  // to uploadFilesContinue from Python.\n",
              "  outputElement.steps = steps;\n",
              "\n",
              "  return _uploadFilesContinue(outputId);\n",
              "}\n",
              "\n",
              "// This is roughly an async generator (not supported in the browser yet),\n",
              "// where there are multiple asynchronous steps and the Python side is going\n",
              "// to poll for completion of each step.\n",
              "// This uses a Promise to block the python side on completion of each step,\n",
              "// then passes the result of the previous step as the input to the next step.\n",
              "function _uploadFilesContinue(outputId) {\n",
              "  const outputElement = document.getElementById(outputId);\n",
              "  const steps = outputElement.steps;\n",
              "\n",
              "  const next = steps.next(outputElement.lastPromiseValue);\n",
              "  return Promise.resolve(next.value.promise).then((value) => {\n",
              "    // Cache the last promise value to make it available to the next\n",
              "    // step of the generator.\n",
              "    outputElement.lastPromiseValue = value;\n",
              "    return next.value.response;\n",
              "  });\n",
              "}\n",
              "\n",
              "/**\n",
              " * Generator function which is called between each async step of the upload\n",
              " * process.\n",
              " * @param {string} inputId Element ID of the input file picker element.\n",
              " * @param {string} outputId Element ID of the output display.\n",
              " * @return {!Iterable<!Object>} Iterable of next steps.\n",
              " */\n",
              "function* uploadFilesStep(inputId, outputId) {\n",
              "  const inputElement = document.getElementById(inputId);\n",
              "  inputElement.disabled = false;\n",
              "\n",
              "  const outputElement = document.getElementById(outputId);\n",
              "  outputElement.innerHTML = '';\n",
              "\n",
              "  const pickedPromise = new Promise((resolve) => {\n",
              "    inputElement.addEventListener('change', (e) => {\n",
              "      resolve(e.target.files);\n",
              "    });\n",
              "  });\n",
              "\n",
              "  const cancel = document.createElement('button');\n",
              "  inputElement.parentElement.appendChild(cancel);\n",
              "  cancel.textContent = 'Cancel upload';\n",
              "  const cancelPromise = new Promise((resolve) => {\n",
              "    cancel.onclick = () => {\n",
              "      resolve(null);\n",
              "    };\n",
              "  });\n",
              "\n",
              "  // Wait for the user to pick the files.\n",
              "  const files = yield {\n",
              "    promise: Promise.race([pickedPromise, cancelPromise]),\n",
              "    response: {\n",
              "      action: 'starting',\n",
              "    }\n",
              "  };\n",
              "\n",
              "  cancel.remove();\n",
              "\n",
              "  // Disable the input element since further picks are not allowed.\n",
              "  inputElement.disabled = true;\n",
              "\n",
              "  if (!files) {\n",
              "    return {\n",
              "      response: {\n",
              "        action: 'complete',\n",
              "      }\n",
              "    };\n",
              "  }\n",
              "\n",
              "  for (const file of files) {\n",
              "    const li = document.createElement('li');\n",
              "    li.append(span(file.name, {fontWeight: 'bold'}));\n",
              "    li.append(span(\n",
              "        `(${file.type || 'n/a'}) - ${file.size} bytes, ` +\n",
              "        `last modified: ${\n",
              "            file.lastModifiedDate ? file.lastModifiedDate.toLocaleDateString() :\n",
              "                                    'n/a'} - `));\n",
              "    const percent = span('0% done');\n",
              "    li.appendChild(percent);\n",
              "\n",
              "    outputElement.appendChild(li);\n",
              "\n",
              "    const fileDataPromise = new Promise((resolve) => {\n",
              "      const reader = new FileReader();\n",
              "      reader.onload = (e) => {\n",
              "        resolve(e.target.result);\n",
              "      };\n",
              "      reader.readAsArrayBuffer(file);\n",
              "    });\n",
              "    // Wait for the data to be ready.\n",
              "    let fileData = yield {\n",
              "      promise: fileDataPromise,\n",
              "      response: {\n",
              "        action: 'continue',\n",
              "      }\n",
              "    };\n",
              "\n",
              "    // Use a chunked sending to avoid message size limits. See b/62115660.\n",
              "    let position = 0;\n",
              "    do {\n",
              "      const length = Math.min(fileData.byteLength - position, MAX_PAYLOAD_SIZE);\n",
              "      const chunk = new Uint8Array(fileData, position, length);\n",
              "      position += length;\n",
              "\n",
              "      const base64 = btoa(String.fromCharCode.apply(null, chunk));\n",
              "      yield {\n",
              "        response: {\n",
              "          action: 'append',\n",
              "          file: file.name,\n",
              "          data: base64,\n",
              "        },\n",
              "      };\n",
              "\n",
              "      let percentDone = fileData.byteLength === 0 ?\n",
              "          100 :\n",
              "          Math.round((position / fileData.byteLength) * 100);\n",
              "      percent.textContent = `${percentDone}% done`;\n",
              "\n",
              "    } while (position < fileData.byteLength);\n",
              "  }\n",
              "\n",
              "  // All done.\n",
              "  yield {\n",
              "    response: {\n",
              "      action: 'complete',\n",
              "    }\n",
              "  };\n",
              "}\n",
              "\n",
              "scope.google = scope.google || {};\n",
              "scope.google.colab = scope.google.colab || {};\n",
              "scope.google.colab._files = {\n",
              "  _uploadFiles,\n",
              "  _uploadFilesContinue,\n",
              "};\n",
              "})(self);\n",
              "</script> "
            ]
          },
          "metadata": {}
        },
        {
          "output_type": "stream",
          "name": "stdout",
          "text": [
            "Saving Ventas de Flores.csv to Ventas de Flores.csv\n"
          ]
        }
      ],
      "source": [
        " # Celda 1: Instalar librerías (si es necesario)\n",
        "!pip install pandas numpy\n",
        "\n",
        "# Celda 2: Importar librerías\n",
        "import pandas as pd\n",
        "import numpy as np\n",
        "\n",
        "# Celda 3: Subir el archivo CSV\n",
        "from google.colab import files\n",
        "uploaded = files.upload()\n"
      ]
    },
    {
      "cell_type": "code",
      "source": [
        "# Lee el archivo subido (solo una de estas líneas)\n",
        "import io\n",
        "df = pd.read_csv(io.BytesIO(uploaded['Ventas de Flores.csv']), sep=\";\", encoding='iso-8859-1')\n",
        "\n",
        "print(\"✅ Archivo cargado exitosamente!\")\n",
        "\n",
        "# Celda 5: Análisis del archivo, cuantas filas y columnas\n",
        "print(f\"El archivo tiene {df.shape[0]} filas y {df.shape[1]} columnas\")"
      ],
      "metadata": {
        "colab": {
          "base_uri": "https://localhost:8080/"
        },
        "id": "m92rn_KNnpW6",
        "outputId": "5a10e05b-30f0-4503-e797-ebf2fe28b96c"
      },
      "execution_count": 5,
      "outputs": [
        {
          "output_type": "stream",
          "name": "stdout",
          "text": [
            "✅ Archivo cargado exitosamente!\n",
            "El archivo tiene 4976 filas y 13 columnas\n"
          ]
        }
      ]
    },
    {
      "cell_type": "code",
      "source": [
        " # Después de cargar el archivo, siempre haz esto:\n",
        "print(\"?? INSPECCIÓN INICIAL:\")\n",
        "print(f\"?? Dimensiones: {df.shape[0]} filas, {df.shape[1]} columnas\")\n",
        "print(\"\\n?? Primeras 5 filas:\")\n",
        "print(df.head())\n",
        "print(\"\\n?? Información general:\")\n",
        "print(df.info())\n",
        "print(\"\\n? Valores faltantes:\")\n",
        "print(df.isnull().sum())"
      ],
      "metadata": {
        "colab": {
          "base_uri": "https://localhost:8080/"
        },
        "id": "f87cqAtS1ikR",
        "outputId": "66035cbc-5387-4be6-d0e3-07746427c264"
      },
      "execution_count": 6,
      "outputs": [
        {
          "output_type": "stream",
          "name": "stdout",
          "text": [
            "?? INSPECCIÓN INICIAL:\n",
            "?? Dimensiones: 4976 filas, 13 columnas\n",
            "\n",
            "?? Primeras 5 filas:\n",
            "   OrderNumber    OrderDate  OrderType CustomerType            CustomerName  \\\n",
            "0      1000001  ene 1, 2020  Wholesale     Business   Tristan Henderson LLC   \n",
            "1      1000002  ene 1, 2020     Retail   Individual         Emmanuel Garcia   \n",
            "2      1000003  ene 1, 2020  Wholesale     Business  Christian Hughes Group   \n",
            "3      1000004  ene 1, 2020     Retail   Individual       Geoffrey Gonzalez   \n",
            "4      1000005  ene 1, 2020  Wholesale     Business    Eduardo Williams LLC   \n",
            "\n",
            "   CustomerState ProductCategory ProductNumber             ProductName  \\\n",
            "0      Tennessee            Rose         RS105           Portland Rose   \n",
            "1          Texas            Rose         RS101       Prickly Wild Rose   \n",
            "2       New York           Daisy         DS808  Pale Purple Coneflower   \n",
            "3  Massachusetts            Rose         RS502             Rosa Glauca   \n",
            "4       New York           Daisy         DS813           English Daisy   \n",
            "\n",
            "  Quantity   Price Discount OrderTotal  \n",
            "0    11,00  $12,00    $2,40    $129,60  \n",
            "1     1,00   $9,99    $0,00      $9,99  \n",
            "2    10,00  $34,99    $7,00    $342,90  \n",
            "3     1,00  $24,95    $0,00     $24,95  \n",
            "4    79,00  $29,99    $6,00  $2.363,21  \n",
            "\n",
            "?? Información general:\n",
            "<class 'pandas.core.frame.DataFrame'>\n",
            "RangeIndex: 4976 entries, 0 to 4975\n",
            "Data columns (total 13 columns):\n",
            " #   Column           Non-Null Count  Dtype \n",
            "---  ------           --------------  ----- \n",
            " 0   OrderNumber      4976 non-null   int64 \n",
            " 1   OrderDate        4976 non-null   object\n",
            " 2   OrderType        4976 non-null   object\n",
            " 3   CustomerType     4976 non-null   object\n",
            " 4   CustomerName     4976 non-null   object\n",
            " 5   CustomerState    4976 non-null   object\n",
            " 6   ProductCategory  4976 non-null   object\n",
            " 7   ProductNumber    4976 non-null   object\n",
            " 8   ProductName      4976 non-null   object\n",
            " 9   Quantity         4976 non-null   object\n",
            " 10  Price            4976 non-null   object\n",
            " 11  Discount         4976 non-null   object\n",
            " 12  OrderTotal       4976 non-null   object\n",
            "dtypes: int64(1), object(12)\n",
            "memory usage: 505.5+ KB\n",
            "None\n",
            "\n",
            "? Valores faltantes:\n",
            "OrderNumber        0\n",
            "OrderDate          0\n",
            "OrderType          0\n",
            "CustomerType       0\n",
            "CustomerName       0\n",
            "CustomerState      0\n",
            "ProductCategory    0\n",
            "ProductNumber      0\n",
            "ProductName        0\n",
            "Quantity           0\n",
            "Price              0\n",
            "Discount           0\n",
            "OrderTotal         0\n",
            "dtype: int64\n"
          ]
        }
      ]
    },
    {
      "cell_type": "code",
      "source": [
        "# Análisis y Limpieza\n",
        "\n",
        "# Convertir columnas numéricas que están como texto\n",
        "def limpiar_valor_numerico(valor):\n",
        "    if isinstance(valor, str):\n",
        "        # Remover comas, puntos como separadores de miles y símbolos de dólar\n",
        "        valor = valor.replace('$', '').replace('.', '').replace(',', '.')\n",
        "        try:\n",
        "            return float(valor)\n",
        "        except:\n",
        "            return np.nan\n",
        "    return valor\n",
        "\n",
        "# Aplicar la limpieza a las columnas numéricas\n",
        "columnas_numericas = ['Quantity', 'Price', 'Discount', 'OrderTotal']\n",
        "# Make sure to run the previous cells to load the dataframe 'df'\n",
        "for col in columnas_numericas:\n",
        "    df[col] = df[col].apply(limpiar_valor_numerico)\n",
        "\n",
        "# Convertir OrderDate a datetime (manejando formato español)\n",
        "df['OrderDate'] = pd.to_datetime(df['OrderDate'], format='%b %d, %Y', errors='coerce')\n",
        "\n",
        "# Verificar resultados\n",
        "print(\"?? Después de la limpieza:\")\n",
        "print(df.info())\n",
        "print(f\"\\n?? Rango de fechas: {df['OrderDate'].min()} to {df['OrderDate'].max()}\")"
      ],
      "metadata": {
        "id": "eP56NW_hSCiz",
        "colab": {
          "base_uri": "https://localhost:8080/"
        },
        "outputId": "700f7b58-34c3-4ce5-b787-a1b627f6ea0c"
      },
      "execution_count": 7,
      "outputs": [
        {
          "output_type": "stream",
          "name": "stdout",
          "text": [
            "?? Después de la limpieza:\n",
            "<class 'pandas.core.frame.DataFrame'>\n",
            "RangeIndex: 4976 entries, 0 to 4975\n",
            "Data columns (total 13 columns):\n",
            " #   Column           Non-Null Count  Dtype         \n",
            "---  ------           --------------  -----         \n",
            " 0   OrderNumber      4976 non-null   int64         \n",
            " 1   OrderDate        3309 non-null   datetime64[ns]\n",
            " 2   OrderType        4976 non-null   object        \n",
            " 3   CustomerType     4976 non-null   object        \n",
            " 4   CustomerName     4976 non-null   object        \n",
            " 5   CustomerState    4976 non-null   object        \n",
            " 6   ProductCategory  4976 non-null   object        \n",
            " 7   ProductNumber    4976 non-null   object        \n",
            " 8   ProductName      4976 non-null   object        \n",
            " 9   Quantity         4976 non-null   float64       \n",
            " 10  Price            4976 non-null   float64       \n",
            " 11  Discount         4976 non-null   float64       \n",
            " 12  OrderTotal       4976 non-null   float64       \n",
            "dtypes: datetime64[ns](1), float64(4), int64(1), object(7)\n",
            "memory usage: 505.5+ KB\n",
            "None\n",
            "\n",
            "?? Rango de fechas: 2020-02-01 00:00:00 to 2020-11-30 00:00:00\n"
          ]
        }
      ]
    },
    {
      "cell_type": "code",
      "source": [
        "# Análisis Exploratorio\n",
        "# Estadísticas descriptivas\n",
        "print(\"?? Estadísticas descriptivas:\")\n",
        "print(df[['Quantity', 'Price', 'Discount', 'OrderTotal']].describe())\n",
        "\n",
        "# Análisis por categorías\n",
        "print(\"\\n?? Ventas por tipo de orden:\")\n",
        "print(df['OrderType'].value_counts())\n",
        "\n",
        "print(\"\\n?? Ventas por tipo de cliente:\")\n",
        "print(df['CustomerType'].value_counts())\n",
        "\n",
        "print(\"\\n?? Ventas por categoría de producto:\")\n",
        "print(df['ProductCategory'].value_counts())\n",
        "\n",
        "print(\"\\n?? Top 5 estados por ventas:\")\n",
        "print(df['CustomerState'].value_counts().head())"
      ],
      "metadata": {
        "colab": {
          "base_uri": "https://localhost:8080/"
        },
        "id": "_5Zuvj-ko3A7",
        "outputId": "030f6a40-3b90-433d-adbe-ca5158726865"
      },
      "execution_count": 8,
      "outputs": [
        {
          "output_type": "stream",
          "name": "stdout",
          "text": [
            "?? Estadísticas descriptivas:\n",
            "          Quantity        Price     Discount    OrderTotal\n",
            "count  4976.000000  4976.000000  4976.000000   4976.000000\n",
            "mean     11.107516   126.849068    14.369566   1386.502020\n",
            "std      20.367634   200.362183    32.763816   5107.252507\n",
            "min       1.000000     4.990000     0.000000      4.990000\n",
            "25%       1.000000    14.990000     0.000000     42.990000\n",
            "50%       5.000000    31.470000     2.200000    179.035000\n",
            "75%      10.000000   179.000000     8.600000    691.200000\n",
            "max     109.000000   899.000000   179.800000  83708.400000\n",
            "\n",
            "?? Ventas por tipo de orden:\n",
            "OrderType\n",
            "Wholesale    2833\n",
            "Retail       2143\n",
            "Name: count, dtype: int64\n",
            "\n",
            "?? Ventas por tipo de cliente:\n",
            "CustomerType\n",
            "Business      2932\n",
            "Individual    2044\n",
            "Name: count, dtype: int64\n",
            "\n",
            "?? Ventas por categoría de producto:\n",
            "ProductCategory\n",
            "Rose         2208\n",
            "Orchid       1032\n",
            "Daisy         992\n",
            "Sunflower     744\n",
            "Name: count, dtype: int64\n",
            "\n",
            "?? Top 5 estados por ventas:\n",
            "CustomerState\n",
            "California    386\n",
            "Florida       374\n",
            "Texas         370\n",
            "New York      304\n",
            "Virginia      187\n",
            "Name: count, dtype: int64\n"
          ]
        }
      ]
    },
    {
      "cell_type": "code",
      "source": [
        "# Análisis de Ventas\n",
        "# Ventas totales\n",
        "ventas_totales = df['OrderTotal'].sum()\n",
        "print(f\"?? Ventas totales: ${ventas_totales:,.2f}\")\n",
        "\n",
        "# Ventas promedio por orden\n",
        "venta_promedio = df['OrderTotal'].mean()\n",
        "print(f\"?? Venta promedio por orden: ${venta_promedio:,.2f}\")\n",
        "\n",
        "# Ventas por mes\n",
        "df['Month'] = df['OrderDate'].dt.to_period('M')\n",
        "ventas_mensuales = df.groupby('Month')['OrderTotal'].sum()\n",
        "print(\"\\n?? Ventas mensuales:\")\n",
        "print(ventas_mensuales)"
      ],
      "metadata": {
        "colab": {
          "base_uri": "https://localhost:8080/"
        },
        "id": "kQvlGNwBpjmk",
        "outputId": "46e87606-214a-4f4d-84fc-98271c73f467"
      },
      "execution_count": 9,
      "outputs": [
        {
          "output_type": "stream",
          "name": "stdout",
          "text": [
            "?? Ventas totales: $6,899,234.05\n",
            "?? Venta promedio por orden: $1,386.50\n",
            "\n",
            "?? Ventas mensuales:\n",
            "Month\n",
            "2020-02    879653.24\n",
            "2020-03    630759.49\n",
            "2020-05    565849.22\n",
            "2020-06    424106.66\n",
            "2020-07    462847.29\n",
            "2020-09    484600.11\n",
            "2020-10    467425.86\n",
            "2020-11    545310.59\n",
            "Freq: M, Name: OrderTotal, dtype: float64\n"
          ]
        }
      ]
    },
    {
      "cell_type": "code",
      "source": [
        "import matplotlib.pyplot as plt\n",
        "import seaborn as sns\n",
        "\n",
        "# Visualización\n",
        "# Configurar estilo\n",
        "plt.style.use('default')\n",
        "fig, axes = plt.subplots(2, 2, figsize=(15, 10))\n",
        "\n",
        "# Ventas por tipo de orden\n",
        "df.groupby('OrderType')['OrderTotal'].sum().plot(kind='bar', ax=axes[0,0], title='Ventas por Tipo de Orden')\n",
        "\n",
        "# Ventas por categoría de producto\n",
        "df.groupby('ProductCategory')['OrderTotal'].sum().plot(kind='bar', ax=axes[0,1], title='Ventas por Categoría de Producto')\n",
        "\n",
        "# Evolución mensual de ventas\n",
        "ventas_mensuales.plot(ax=axes[1,0], title='Evolución Mensual de Ventas')\n",
        "\n",
        "\n",
        "# Distribución de montos de orden\n",
        "df['OrderTotal'].hist(bins=50, ax=axes[1,1])\n",
        "axes[1,1].set_title('Distribución de Montos de Orden')\n",
        "\n",
        "# Distribución de montos de orden\n",
        "#df['OrderTotal'].hist(bins=50, ax=axes[1,1], title='Distribución de Montos de Orden')\n",
        "\n",
        "plt.tight_layout()\n",
        "plt.show()"
      ],
      "metadata": {
        "colab": {
          "base_uri": "https://localhost:8080/",
          "height": 591
        },
        "id": "8DLBv1YGp8ih",
        "outputId": "5daf506e-c192-4e4a-a0f4-79e3a1afe585"
      },
      "execution_count": 10,
      "outputs": [
        {
          "output_type": "display_data",
          "data": {
            "text/plain": [
              "<Figure size 1500x1000 with 4 Axes>"
            ],
            "image/png": "[encoded data removed]"
          },
          "metadata": {}
        }
      ]
    },
    {
      "cell_type": "code",
      "source": [
        "# Análisis de Clientes\n",
        "# Top 10 clientes por volumen de compra\n",
        "top_clientes = df.groupby('CustomerName')['OrderTotal'].sum().sort_values(ascending=False).head(10)\n",
        "print(\"?? Top 10 clientes por volumen de compra:\")\n",
        "print(top_clientes)\n",
        "\n",
        "# Frecuencia de compra por cliente\n",
        "frecuencia_compras = df['CustomerName'].value_counts()\n",
        "print(f\"\\n?? Cliente más frecuente: {frecuencia_compras.idxmax()} ({frecuencia_compras.max()} compras)\")"
      ],
      "metadata": {
        "colab": {
          "base_uri": "https://localhost:8080/"
        },
        "id": "KvAyrQRLrG9S",
        "outputId": "1a20a0ef-1a9c-4e52-9908-3cfff27e387a"
      },
      "execution_count": 11,
      "outputs": [
        {
          "output_type": "stream",
          "name": "stdout",
          "text": [
            "?? Top 10 clientes por volumen de compra:\n",
            "CustomerName\n",
            "Alexis Coleman LLC            155815.72\n",
            "Cole Torres LLC               109909.25\n",
            "Marcus Anderson Inc.          103297.29\n",
            "Alvin Hu LLC                   92517.25\n",
            "Morgan Gonzalez Inc.           89598.67\n",
            "Jose Flores Group              88825.28\n",
            "Ashley Martinez Industries     86930.45\n",
            "Christine Nara Inc.            86635.64\n",
            "William Lee International      84839.27\n",
            "Cindy Patel LLC                78230.29\n",
            "Name: OrderTotal, dtype: float64\n",
            "\n",
            "?? Cliente más frecuente: Marcus Anderson Inc. (36 compras)\n"
          ]
        }
      ]
    },
    {
      "cell_type": "code",
      "source": [],
      "metadata": {
        "id": "N_rvKZuJniW2"
      },
      "execution_count": null,
      "outputs": []
    },
    {
      "cell_type": "code",
      "source": [
        "# Guardar dataframe limpio\n",
        "df_clean = df.copy()\n",
        "df_clean.to_csv('datos_limpios.csv', index=False)\n",
        "print(\"?? Datos limpios guardados en 'datos_limpios.csv'\")\n",
        "\n"
      ],
      "metadata": {
        "colab": {
          "base_uri": "https://localhost:8080/"
        },
        "id": "f2hNk45SrfV3",
        "outputId": "12a6b6be-c939-4ba9-8d04-f32fb6c4117d"
      },
      "execution_count": 12,
      "outputs": [
        {
          "output_type": "stream",
          "name": "stdout",
          "text": [
            "?? Datos limpios guardados en 'datos_limpios.csv'\n"
          ]
        }
      ]
    },
    {
      "cell_type": "code",
      "source": [
        "from google.colab import drive\n",
        "drive.mount('/content/drive')\n",
        "\n",
        "# Guardar en una carpeta de Drive\n",
        "df.to_csv('/content/drive/MyDrive/Análisis de Datos/datos_limpios.csv', index=False)"
      ],
      "metadata": {
        "colab": {
          "base_uri": "https://localhost:8080/"
        },
        "id": "1cRTfa-En_9-",
        "outputId": "7d98936d-c37c-4d27-bd8b-80c36bde88e2"
      },
      "execution_count": 13,
      "outputs": [
        {
          "output_type": "stream",
          "name": "stdout",
          "text": [
            "Drive already mounted at /content/drive; to attempt to forcibly remount, call drive.mount(\"/content/drive\", force_remount=True).\n"
          ]
        }
      ]
    }
  ]
}